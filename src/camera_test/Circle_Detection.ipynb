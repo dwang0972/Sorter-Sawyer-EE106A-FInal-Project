{
 "cells": [
  {
   "cell_type": "code",
   "execution_count": 1,
   "metadata": {
    "collapsed": true
   },
   "outputs": [],
   "source": [
    "import cv2\n",
    "import numpy as np\n",
    "from matplotlib import pyplot as plt \n",
    "import matplotlib.image as mpimg\n",
    "import argparse"
   ]
  },
  {
   "cell_type": "code",
   "execution_count": null,
   "metadata": {},
   "outputs": [],
   "source": [
    "### Detect circles in the image ###\n",
    "\n",
    "img = cv2.imread('red_ball_lighting.jpg',0)\n",
    "img = cv2.medianBlur(img,5)\n",
    "cimg = cv2.cvtColor(img,cv2.COLOR_GRAY2BGR)\n",
    "# plt.imshow(cimg)\n",
    "# plt.plot()\n",
    "\n",
    "# img = mpimg.imread(\"red_ball_lighting.png\")\n",
    "# plt.imshow(img)\n",
    "\n",
    "circles = cv2.HoughCircles(img,cv2.HOUGH_GRADIENT,1,20,\n",
    "                            param1=50,param2=30,minRadius=0,maxRadius=0)\n",
    "circles = np.uint16(np.around(circles))\n",
    "\n",
    "# if len(circles) == 0:\n",
    "#     print(\"NONE\")\n",
    "\n",
    "# print(circles)\n",
    "# for i in circles[0,:]:\n",
    "#     # draw the outer circle\n",
    "#     cv2.circle(cimg,(i[0],i[1]),i[2],(0,255,0),2)\n",
    "#     # draw the center of the circle\n",
    "#     cv2.circle(cimg,(i[0],i[1]),2,(0,0,255),3)\n",
    "# cv2.imshow('detected circles',cimg)\n",
    "# cv2.waitKey(0)\n",
    "# cv2.destroyAllWindows()\n",
    "\n",
    "\n",
    "\n",
    "\n",
    "\n"
   ]
  },
  {
   "cell_type": "code",
   "execution_count": null,
   "metadata": {
    "collapsed": true
   },
   "outputs": [],
   "source": []
  }
 ],
 "metadata": {
  "kernelspec": {
   "display_name": "Python 3",
   "language": "python",
   "name": "python3"
  },
  "language_info": {
   "codemirror_mode": {
    "name": "ipython",
    "version": 3
   },
   "file_extension": ".py",
   "mimetype": "text/x-python",
   "name": "python",
   "nbconvert_exporter": "python",
   "pygments_lexer": "ipython3",
   "version": "3.6.1"
  }
 },
 "nbformat": 4,
 "nbformat_minor": 2
}
